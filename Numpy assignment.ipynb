{
 "cells": [
  {
   "cell_type": "markdown",
   "metadata": {},
   "source": [
    "***Write a function so that the columns of the output matrix are powers of the input vector.***"
   ]
  },
  {
   "cell_type": "code",
   "execution_count": 1,
   "metadata": {},
   "outputs": [],
   "source": [
    "import numpy as np"
   ]
  },
  {
   "cell_type": "code",
   "execution_count": 2,
   "metadata": {},
   "outputs": [
    {
     "name": "stdout",
     "output_type": "stream",
     "text": [
      "Input array is: [1 2 3 4 5] \n",
      "\n",
      "Number of columns: 5 \n",
      "\n",
      "Vander matrix in decreasing order:\n",
      "[[  1   1   1   1   1]\n",
      " [ 16   8   4   2   1]\n",
      " [ 81  27   9   3   1]\n",
      " [256  64  16   4   1]\n",
      " [625 125  25   5   1]]\n",
      "\n",
      " Vander matrix in increasing order:\n",
      "[[  1   1   1   1   1]\n",
      " [  1   2   4   8  16]\n",
      " [  1   3   9  27  81]\n",
      " [  1   4  16  64 256]\n",
      " [  1   5  25 125 625]]\n"
     ]
    }
   ],
   "source": [
    "def alex_vander_matrix(uniarray,n,increasing=False):\n",
    "    if not increasing:\n",
    "        print(np.array([x**(n-1-i) for x in uniarray for i in range(n)]).reshape(len(uniarray),n))\n",
    "    else:\n",
    "        print(np.array([x**i for x in uniarray for i in range(n)]).reshape(len(uniarray),n))\n",
    "        \n",
    "in_array = [1,2,3,4,5]\n",
    "no_col=5\n",
    "print('Input array is:',np.array(in_array),'\\n')\n",
    "print('Number of columns:',no_col,'\\n')\n",
    "print('Vander matrix in decreasing order:')\n",
    "alex_vander_matrix(in_array,no_col)\n",
    "print('\\n Vander matrix in increasing order:')\n",
    "alex_vander_matrix(in_array,no_col,increasing=True)\n"
   ]
  },
  {
   "cell_type": "markdown",
   "metadata": {},
   "source": [
    "***Write a function to find moving average in an array over a window: Test it over [3, 5, 7, 2, 8, 10, 11, 65, 72, 81, 99, 100, 150] and window of 3.***"
   ]
  },
  {
   "cell_type": "code",
   "execution_count": 3,
   "metadata": {},
   "outputs": [],
   "source": [
    "input_array = [3, 5, 7, 2, 8, 10, 11, 65, 72, 81, 99, 100, 150]\n",
    "window=3\n",
    "output = []\n",
    "n=len(input_array)\n",
    "def moving_avg():\n",
    "    for i in range(0,n):\n",
    "        if i<n-window+1:\n",
    "            output.append((input_array[i]+input_array[i+1]+input_array[i+2])/window)\n",
    "        else:\n",
    "            break\n",
    "    print(output)        "
   ]
  },
  {
   "cell_type": "code",
   "execution_count": 4,
   "metadata": {},
   "outputs": [
    {
     "name": "stdout",
     "output_type": "stream",
     "text": [
      "[5.0, 4.666666666666667, 5.666666666666667, 6.666666666666667, 9.666666666666666, 28.666666666666668, 49.333333333333336, 72.66666666666667, 84.0, 93.33333333333333, 116.33333333333333]\n"
     ]
    }
   ],
   "source": [
    "moving_avg()"
   ]
  },
  {
   "cell_type": "code",
   "execution_count": 5,
   "metadata": {},
   "outputs": [
    {
     "name": "stdout",
     "output_type": "stream",
     "text": [
      "y1 =5.0\n",
      "y2 =4.67\n",
      "y3 =5.67\n",
      "y4 =6.67\n",
      "y5 =9.67\n",
      "y6 =28.67\n",
      "y7 =49.33\n",
      "y8 =72.67\n",
      "y9 =84.0\n",
      "y10 =93.33\n",
      "y11 =116.33\n"
     ]
    }
   ],
   "source": [
    "for i in range(len(output)):\n",
    "    print(f'y{i+1} ={round(output[i],2)}')"
   ]
  },
  {
   "cell_type": "code",
   "execution_count": null,
   "metadata": {},
   "outputs": [],
   "source": []
  }
 ],
 "metadata": {
  "kernelspec": {
   "display_name": "Python 3",
   "language": "python",
   "name": "python3"
  },
  "language_info": {
   "codemirror_mode": {
    "name": "ipython",
    "version": 3
   },
   "file_extension": ".py",
   "mimetype": "text/x-python",
   "name": "python",
   "nbconvert_exporter": "python",
   "pygments_lexer": "ipython3",
   "version": "3.7.6"
  }
 },
 "nbformat": 4,
 "nbformat_minor": 4
}
